{
 "cells": [
  {
   "cell_type": "code",
   "execution_count": 1,
   "metadata": {},
   "outputs": [],
   "source": [
    "#Importing libraries\n",
    "\n",
    "from bs4 import BeautifulSoup\n",
    "import requests\n",
    "import time"
   ]
  },
  {
   "cell_type": "code",
   "execution_count": 4,
   "metadata": {
    "collapsed": true
   },
   "outputs": [
    {
     "ename": "NameError",
     "evalue": "name 'coin' is not defined",
     "output_type": "error",
     "traceback": [
      "\u001b[0;31m---------------------------------------------------------------------------\u001b[0m",
      "\u001b[0;31mNameError\u001b[0m                                 Traceback (most recent call last)",
      "\u001b[0;32m<ipython-input-4-9464595881d8>\u001b[0m in \u001b[0;36m<module>\u001b[0;34m\u001b[0m\n\u001b[1;32m      1\u001b[0m \u001b[0;31m#Getting the URl\u001b[0m\u001b[0;34m\u001b[0m\u001b[0;34m\u001b[0m\u001b[0;34m\u001b[0m\u001b[0m\n\u001b[0;32m----> 2\u001b[0;31m \u001b[0murl\u001b[0m \u001b[0;34m=\u001b[0m \u001b[0;34m'https://www.google.com/search?q='\u001b[0m\u001b[0;34m+\u001b[0m\u001b[0mcoin\u001b[0m\u001b[0;34m+\u001b[0m\u001b[0;34m'+price&oq=bit&aqs=chrome.0.69i59l2j69i57j69i59j69i60l4.706j0j7&sourceid=chrome&ie=UTF-8'\u001b[0m\u001b[0;34m\u001b[0m\u001b[0;34m\u001b[0m\u001b[0m\n\u001b[0m\u001b[1;32m      3\u001b[0m \u001b[0;34m\u001b[0m\u001b[0m\n\u001b[1;32m      4\u001b[0m \u001b[0;31m#Make a request to the website\u001b[0m\u001b[0;34m\u001b[0m\u001b[0;34m\u001b[0m\u001b[0;34m\u001b[0m\u001b[0m\n\u001b[1;32m      5\u001b[0m \u001b[0mHTML\u001b[0m \u001b[0;34m=\u001b[0m \u001b[0mrequests\u001b[0m\u001b[0;34m.\u001b[0m\u001b[0mget\u001b[0m\u001b[0;34m(\u001b[0m\u001b[0murl\u001b[0m\u001b[0;34m)\u001b[0m\u001b[0;34m\u001b[0m\u001b[0;34m\u001b[0m\u001b[0m\n",
      "\u001b[0;31mNameError\u001b[0m: name 'coin' is not defined"
     ]
    }
   ],
   "source": [
    "#Getting the URl\n",
    "url = 'https://www.google.com/search?q='+coin+'+price&oq=bit&aqs=chrome.0.69i59l2j69i57j69i59j69i60l4.706j0j7&sourceid=chrome&ie=UTF-8'\n",
    "\n",
    "#Make a request to the website\n",
    "HTML = requests.get(url)\n",
    "\n",
    "#Parse the HTML\n",
    "soup = BeautifulSoup(HTML.text, 'html.parser')\n",
    "\n",
    "#Print doup to find where the text is that contains the price of the cryptocurrency\n",
    "print(soup.prettify())\n"
   ]
  },
  {
   "cell_type": "code",
   "execution_count": null,
   "metadata": {},
   "outputs": [],
   "source": [
    "def get_crypto_price(coin):\n",
    "    #Getting the URl\n",
    "\n",
    "    url = 'https://www.google.com/search?q=bitcoin+price&oq=bit&aqs=chrome.0.69i59l2j69i57j69i59j69i60l4.706j0j7&sourceid=chrome&ie=UTF-8'\n",
    "    #Make a request to the website\n",
    "    HTML = requests.get(url)\n",
    "\n",
    "    #Parse the HTML\n",
    "    soup = BeautifulSoup(HTML.text, 'html.parser')\n",
    "    \n",
    "    #Find the current price\n",
    "    text = soup.find('div', attrs={'class':'BNeawe iBp4i AP7Wnd'}).find('div', attrs={'class':'BNeawe iBp4i AP7Wnd'}).text\n",
    "\n",
    "    #Return the text\n",
    "    return text"
   ]
  },
  {
   "cell_type": "code",
   "execution_count": null,
   "metadata": {},
   "outputs": [],
   "source": [
    "#Get the price of a cryptocurrency\n",
    "price = get_crypto_price('bitcoin')\n",
    "\n",
    "#Print the price\n",
    "print(price)"
   ]
  },
  {
   "cell_type": "code",
   "execution_count": null,
   "metadata": {},
   "outputs": [],
   "source": [
    "#Create a function to consistently show the price of the cryptocurrency when it changes\n",
    "\n",
    "def main():\n",
    "    last_price = -1\n",
    "    #Create a loop to continuously show the price\n",
    "    while True:\n",
    "        #Choose the cryptocurrency that I want to get the price for\n",
    "        crypto = 'bitcoin'\n",
    "        #Get the price of the cryptocurrency\n",
    "        price = get_crypto_price(crypto)\n",
    "        #Check if the price changed\n",
    "        if price != last_price:\n",
    "            print(crypto+' price: ',price)\n",
    "            last_price = price\n",
    "        time.sleep(3)"
   ]
  },
  {
   "cell_type": "code",
   "execution_count": null,
   "metadata": {},
   "outputs": [],
   "source": [
    "#Run/execute the main function\n",
    "main()"
   ]
  },
  {
   "cell_type": "code",
   "execution_count": null,
   "metadata": {},
   "outputs": [],
   "source": []
  }
 ],
 "metadata": {
  "kernelspec": {
   "display_name": "Python 3",
   "language": "python",
   "name": "python3"
  },
  "language_info": {
   "codemirror_mode": {
    "name": "ipython",
    "version": 3
   },
   "file_extension": ".py",
   "mimetype": "text/x-python",
   "name": "python",
   "nbconvert_exporter": "python",
   "pygments_lexer": "ipython3",
   "version": "3.6.9"
  }
 },
 "nbformat": 4,
 "nbformat_minor": 4
}
